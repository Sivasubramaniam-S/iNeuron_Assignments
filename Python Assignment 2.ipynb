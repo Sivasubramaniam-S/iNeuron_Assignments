{
 "cells": [
  {
   "cell_type": "markdown",
   "metadata": {},
   "source": [
    "#### 1. Create the below pattern using nested for loop in Python.\n",
    "\n",
    "##### *\n",
    "##### **\n",
    "##### ***\n",
    "##### ****\n",
    "##### *****\n",
    "##### ****\n",
    "##### ***\n",
    "##### **\n",
    "##### *"
   ]
  },
  {
   "cell_type": "code",
   "execution_count": 1,
   "metadata": {},
   "outputs": [
    {
     "name": "stdout",
     "output_type": "stream",
     "text": [
      "*\n",
      "**\n",
      "***\n",
      "****\n",
      "*****\n",
      "****\n",
      "***\n",
      "**\n",
      "*\n"
     ]
    }
   ],
   "source": [
    "for m in range(1):\n",
    "    for i in range(0,5,1):\n",
    "        for j in range(0,i+1):\n",
    "            print('*',end=\"\")\n",
    "\n",
    "        print('')\n",
    "    for i in range(4,0,-1):\n",
    "        for j in range(0,i):\n",
    "            print('*',end=\"\")\n",
    "        print('')"
   ]
  },
  {
   "cell_type": "markdown",
   "metadata": {},
   "source": [
    "#### 2. Write a Python program to reverse a word after accepting the input from the user."
   ]
  },
  {
   "cell_type": "code",
   "execution_count": 2,
   "metadata": {},
   "outputs": [
    {
     "name": "stdout",
     "output_type": "stream",
     "text": [
      "Enter a word to reverse:Artificial Intelligence\n",
      "Help on function user_name in module __main__:\n",
      "\n",
      "user_name(name='Artificial Intelligence')\n",
      "    Reverses given input word\n",
      "\n"
     ]
    },
    {
     "data": {
      "text/plain": [
       "'ecnegilletnI laicifitrA'"
      ]
     },
     "execution_count": 2,
     "metadata": {},
     "output_type": "execute_result"
    }
   ],
   "source": [
    "def user_name(name=str(input(\"Enter a word to reverse:\"))):\n",
    "    '''Reverses given input word'''\n",
    "    Name=str(name[::-1])\n",
    "    return Name\n",
    "\n",
    "help(user_name)\n",
    "user_name()"
   ]
  }
 ],
 "metadata": {
  "kernelspec": {
   "display_name": "Python 3",
   "language": "python",
   "name": "python3"
  },
  "language_info": {
   "codemirror_mode": {
    "name": "ipython",
    "version": 3
   },
   "file_extension": ".py",
   "mimetype": "text/x-python",
   "name": "python",
   "nbconvert_exporter": "python",
   "pygments_lexer": "ipython3",
   "version": "3.8.3"
  }
 },
 "nbformat": 4,
 "nbformat_minor": 4
}
