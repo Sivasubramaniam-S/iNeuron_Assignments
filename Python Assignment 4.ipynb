{
 "cells": [
  {
   "cell_type": "markdown",
   "metadata": {},
   "source": [
    "#### 1.1 Write a Python Program(with class concepts) to find the area of the triangle using the below formula.\n",
    "#### area = (s*(s-a)*(s-b)*(s-c)) *** 0.5\n",
    "#### Function to take the length of the sides of triangle from user should be defined in the parent\n",
    "#### class and function to calculate the area should be defined in subclass."
   ]
  },
  {
   "cell_type": "code",
   "execution_count": 1,
   "metadata": {},
   "outputs": [
    {
     "name": "stdout",
     "output_type": "stream",
     "text": [
      "Enter the side 'a' length: 10\n",
      "Enter the side 'b' length: 12\n",
      "Enter the side 'c' length: 14\n",
      "Area of triangle is 58.7878 cm²\n"
     ]
    }
   ],
   "source": [
    "class Triangle:\n",
    "    \n",
    "    def __init__(self):\n",
    "        self.a = float(input(\"Enter the side 'a' length: \"))\n",
    "        self.b = float(input(\"Enter the side 'b' length: \"))\n",
    "        self.c = float(input(\"Enter the side 'c' length: \"))\n",
    "    \n",
    "class Area(Triangle):\n",
    "    \n",
    "    def __int__(self,*args):\n",
    "        super(Area,self).__init__(*args)\n",
    "        \n",
    "    def formula(self):\n",
    "        s =(self.a+self.b+self.c) / 2\n",
    "        x= s - self.a\n",
    "        y= s - self.b\n",
    "        z= s - self.c\n",
    "        area = (s*x*y*z)**0.5\n",
    "        area = round(area,4)\n",
    "        print(f\"Area of triangle is {area} cm\\u00b2\")\n",
    "        \n",
    "    def __str__(self):\n",
    "        print(self.formula)\n",
    "\n",
    "area_ob = Area()\n",
    "area_ob.formula()"
   ]
  },
  {
   "cell_type": "markdown",
   "metadata": {},
   "source": [
    "#### 1.2 Write a function filter_long_words() that takes a list of words and an integer n and returns\n",
    "#### the list of words that are longer than n."
   ]
  },
  {
   "cell_type": "code",
   "execution_count": 2,
   "metadata": {},
   "outputs": [
    {
     "data": {
      "text/plain": [
       "['about', 'marvelous', 'second', 'Jasmine']"
      ]
     },
     "execution_count": 2,
     "metadata": {},
     "output_type": "execute_result"
    }
   ],
   "source": [
    "def filter_long_words(List,x):\n",
    "    empty=[]\n",
    "    for i in lsst:\n",
    "        if len(i) > x:\n",
    "            empty.append(i)\n",
    "        else:\n",
    "            continue\n",
    "    return empty\n",
    "            \n",
    "\n",
    "lsst = ['about',\"marvelous\",\"second\",\"Tax\",\"Ox\",\"Jasmine\"]\n",
    "filter_long_words(lsst,4)\n",
    "    \n",
    "    "
   ]
  },
  {
   "cell_type": "markdown",
   "metadata": {},
   "source": [
    "#### 2.1 Write a Python program using function concept that maps list of words into a list of integers\n",
    "#### representing the lengths of the corresponding words."
   ]
  },
  {
   "cell_type": "code",
   "execution_count": 3,
   "metadata": {},
   "outputs": [
    {
     "name": "stdout",
     "output_type": "stream",
     "text": [
      "[5, 4, 4, 6]\n"
     ]
    }
   ],
   "source": [
    "def length(word):\n",
    "    return len(word)\n",
    "\n",
    "List = [\"apple\",\"blue\",\"crow\",\"donkey\"]\n",
    "\n",
    "Result = map(length,List)\n",
    "\n",
    "print(list(Result))\n"
   ]
  },
  {
   "cell_type": "markdown",
   "metadata": {},
   "source": [
    "#### 2.2 Write a Python function which takes a character (i.e. a string of length 1) and returns True if\n",
    "#### it is a vowel, False otherwise."
   ]
  },
  {
   "cell_type": "code",
   "execution_count": 5,
   "metadata": {},
   "outputs": [
    {
     "name": "stdout",
     "output_type": "stream",
     "text": [
      "enter some character: I\n",
      "True\n"
     ]
    }
   ],
   "source": [
    "def vowel_finder(a = input(\"enter some character: \")):\n",
    "    if a in \"AEIOUaeiou\":\n",
    "        return True\n",
    "    else:\n",
    "        return False\n",
    "    \n",
    "print(vowel_finder())"
   ]
  },
  {
   "cell_type": "code",
   "execution_count": null,
   "metadata": {},
   "outputs": [],
   "source": []
  },
  {
   "cell_type": "code",
   "execution_count": null,
   "metadata": {},
   "outputs": [],
   "source": []
  },
  {
   "cell_type": "code",
   "execution_count": null,
   "metadata": {},
   "outputs": [],
   "source": []
  },
  {
   "cell_type": "code",
   "execution_count": null,
   "metadata": {},
   "outputs": [],
   "source": []
  }
 ],
 "metadata": {
  "kernelspec": {
   "display_name": "Python 3",
   "language": "python",
   "name": "python3"
  },
  "language_info": {
   "codemirror_mode": {
    "name": "ipython",
    "version": 3
   },
   "file_extension": ".py",
   "mimetype": "text/x-python",
   "name": "python",
   "nbconvert_exporter": "python",
   "pygments_lexer": "ipython3",
   "version": "3.9.0"
  }
 },
 "nbformat": 4,
 "nbformat_minor": 4
}
